{
 "cells": [
  {
   "cell_type": "markdown",
   "metadata": {},
   "source": [
    "**Vehicle Detection Project**\n",
    "\n",
    "The goals / steps of this project are the following:\n",
    "\n",
    "* Perform a Histogram of Oriented Gradients (HOG) feature extraction on a labeled training set of images and train a classifier Linear SVM classifier\n",
    "* Optionally, you can also apply a color transform and append binned color features, as well as histograms of color, to your HOG feature vector. \n",
    "* Note: for those first two steps don't forget to normalize your features and randomize a selection for training and testing.\n",
    "* Implement a sliding-window technique and use your trained classifier to search for vehicles in images.\n",
    "* Run your pipeline on a video stream (start with the test_video.mp4 and later implement on full project_video.mp4) and create a heat map of recurring detections frame by frame to reject outliers and follow detected vehicles.\n",
    "* Estimate a bounding box for vehicles detected.\n"
   ]
  },
  {
   "cell_type": "markdown",
   "metadata": {},
   "source": [
    "## [Rubric](https://review.udacity.com/#!/rubrics/513/view) Points\n",
    "### Here I will consider the rubric points individually and describe how I addressed each point in my implementation.  "
   ]
  },
  {
   "cell_type": "markdown",
   "metadata": {},
   "source": [
    "## Writeup / README\n",
    "\n",
    "#### 1. Provide a Writeup / README that includes all the rubric points and how you addressed each one.  You can submit your writeup as markdown or pdf.  [Here](https://github.com/udacity/CarND-Vehicle-Detection/blob/master/writeup_template.md) is a template writeup for this project you can use as a guide and a starting point.  \n",
    "\n",
    "You're reading it!"
   ]
  },
  {
   "cell_type": "markdown",
   "metadata": {},
   "source": [
    "### Histogram of Oriented Gradients (HOG)\n",
    "\n",
    "#### 1. Explain how (and identify where in your code) you extracted HOG features from the training images.\n",
    "\n",
    "In order to extract all of the HOG features for the images, i used the pipeline contained in the 'Train the model' section of the VehicleDetection IPython notebook.  This function relies on several other function to complete it's work:\n",
    "* get_hog_features(): Returns all the HOG features from a single image.\n",
    "* bin_spatial(): Returns the binned spatial features of a single image.  For this exercise I used a bin sixe of (32,32)\n",
    "* color_hist(): Returns a color histogram from a single image.  For this I used all 3 channels for the image, and then concatenated them into a single feature vector.  It is important to note I used YCrCb as the format for these images.\n",
    "\n",
    "I started by reading in all the `vehicle` and `non-vehicle` images.  Here is an example of one of each of the `vehicle` and `non-vehicle` classes:\n"
   ]
  },
  {
   "cell_type": "markdown",
   "metadata": {},
   "source": [
    "<img src=\"./readMeImages/nonveh1.png\" height=128 width=128 align=\"left\"/>\n",
    "<img src=\"./readMeImages/veh1.png\" height=128 width=128 align=\"center\"/>"
   ]
  },
  {
   "cell_type": "markdown",
   "metadata": {},
   "source": [
    "#### 2. Explain how you settled on your final choice of HOG parameters.\n",
    "\n",
    "Determining the proper parameters for the functions, such as bin size, orientations, and even color conversion was a lot of trial and error.  I started using base parameters I pulled from the various lessons, as that seemed a logical place to start.  From there I fine tuned them in an ordered and documented approach where I annotated the change as well as a result.  I computed each of the functions above independently until I had a result I was happy with.  I then began combining the functions together, such as color_hist and bin_spatial.  I ended up finding a set of parameters which performed well under any condition:\n",
    "* orient = 9\n",
    "* pix_per_cell = 8\n",
    "* cell_per_block = 2\n",
    "* hog_channel = \"ALL\" # Can be 0, 1, 2, or \"ALL\"\n",
    "* spatial_size = (32,32)\n",
    "* hist_bins=32\n",
    "\n",
    "#### 3. Describe how (and identify where in your code) you trained a classifier using your selected HOG features (and color features if you used them).\n",
    "\n",
    "For this project I used a Linear SVC provided by SKLearn.  I would like to explore using a CNN on this and see if I can get better results. In order to train the classifier I used HOG features, color histograms, and binned color features. This code is contained in the 'Train The Model' section of the IPython notebook. \n",
    "\n",
    "I used all the images provided to us in the 'vehicles' and 'non-vehicles' training set.  The break down of images into directories was pretty fragmented for the vehicles.  I ended up renaming all of the files and creating directories of  'vehicles' and 'non-vehicles'.  \n",
    "\n",
    "Using the parameters from above, I was able to create a model with 99.5% accuracy.  Once I achieved this accuracy, I felt the classifier was strong enough to start working on some images.  In order to avoid training the classifier each time I wanted to test I ended up making a pickle file where I stored the classifier as well as all the variables I used when training.  I felt it was important to save the variables used to train as it would lesses the risk of misentering a variable later on, as I really look at this assignment as 2 projects:\n",
    "1. Build and train a classifier\n",
    "2. Detect and track vehicles.\n",
    "\n",
    "I also felt by saving the trained classifier it would be easier to integrate this project into others such as the advanced lane detection project. \n",
    "\n",
    "### Sliding Window Search\n",
    "\n",
    "#### 1. Describe how (and identify where in your code) you implemented a sliding window search.  How did you decide what scales to search and how much to overlap windows?\n",
    "\n",
    "For the sliding window search, I chose to calculate the HOG features of the image once, and then subsample a section of the image.  I used the bottom portion of the image, starting on the y axis at 400 since this is slightly above the road on the horizon.  I searched the image at a scale of 1.5 as this seemed to produce the most accurate results.  I also overlapped each window by 50%.  \n"
   ]
  },
  {
   "cell_type": "markdown",
   "metadata": {},
   "source": [
    "\n",
    "#### 2. Show some examples of test images to demonstrate how your pipeline is working.  What did you do to optimize the performance of your classifier?\n",
    "\n",
    "Ultimately I searched using YCrCb 3-channel HOG features plus spatially binned color and histograms of color in the feature vector, which provided a nice result.  Here are some example images:\n"
   ]
  },
  {
   "cell_type": "markdown",
   "metadata": {},
   "source": [
    "<p style=\"text-align: center;\">Color Histogram of an image:</p>\n",
    "\n",
    "<img src=\"./readMeImages/hist2.png\" align=\"center\"/>\n",
    "\n",
    "<p style=\"text-align: center;\">Heat Map of same image:</p>\n",
    "\n",
    "<img src=\"./readMeImages/heat1.png\" align=\"center\"/>\n"
   ]
  },
  {
   "cell_type": "markdown",
   "metadata": {},
   "source": [
    "### Video Implementation\n",
    "\n",
    "#### 1. Provide a link to your final video output.  Your pipeline should perform reasonably well on the entire project video (somewhat wobbly or unstable bounding boxes are ok as long as you are identifying the vehicles most of the time with minimal false positives.)\n",
    "Here's a [link to my video result](./OutputVideos/project_video_out.mp4)\n",
    "\n",
    "#### 2. Describe how (and identify where in your code) you implemented some kind of filter for false positives and some method for combining overlapping bounding boxes.\n",
    "\n",
    "I recorded the positions of positive detections in each frame of the video.  From the positive detections I created a heatmap and then thresholded that map to identify vehicle positions.  I then used `scipy.ndimage.measurements.label()` to identify individual blobs in the heatmap.  I then assumed each blob corresponded to a vehicle.  I constructed bounding boxes to cover the area of each blob detected.  \n",
    "\n",
    "These thresholded heatmaps allowed me to filter out false positives and overlapping boxes.  I then found the boxes jumped around quite a bit so I smoothed and averaged the heatmap out over 10 frames. This allowed for a much smoother detection.\n",
    "\n",
    "\n"
   ]
  },
  {
   "cell_type": "markdown",
   "metadata": {},
   "source": [
    "### Discussion\n",
    "\n",
    "#### 1. Briefly discuss any problems / issues you faced in your implementation of this project.  Where will your pipeline likely fail?  What could you do to make it more robust?\n",
    "\n",
    "Most of this project progressed fairly easy.  I did struggle with ensuring I added my features in the right order in the model and the video pipelines.  This caused me to recieve several errors, which I was able to work through with the help of my mentor.  I also had issues where I would tweak a parameter in the model, and then not adjust the corresponding parameter in the pipeline.  This is what led me to saving my adjustable parameters in a pickle file.\n",
    "\n",
    "Once I was successfully detecting the images, I then had problems with the boxes bouncing all over the cars.  I tried several different approaches, and finally setteled on using the collections.dque (again at the suggestion of my outstanding mentor Mate!).  I set the queue length for 10, as I figured this was about 1/3rd of a frame at 30 fps.  This allowed me to have a much smoother video result.\n",
    "\n",
    "Overall, I felt hampered because I am still new to python, but I did enjoy learning new features and abilities of the language.  I am hoping to improve this project over time as I get more familier with python and the libraries we are using\n"
   ]
  }
 ],
 "metadata": {
  "kernelspec": {
   "display_name": "tfgpu",
   "language": "python",
   "name": "tfgpu"
  },
  "language_info": {
   "codemirror_mode": {
    "name": "ipython",
    "version": 3
   },
   "file_extension": ".py",
   "mimetype": "text/x-python",
   "name": "python",
   "nbconvert_exporter": "python",
   "pygments_lexer": "ipython3",
   "version": "3.5.2"
  }
 },
 "nbformat": 4,
 "nbformat_minor": 2
}
